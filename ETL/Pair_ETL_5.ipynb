{
 "cells": [
  {
   "cell_type": "markdown",
   "metadata": {},
   "source": [
    "### Pair Programming - ETL V"
   ]
  },
  {
   "cell_type": "code",
   "execution_count": 7,
   "metadata": {},
   "outputs": [],
   "source": [
    "import pandas as pd\n",
    "import mysql.connector"
   ]
  },
  {
   "attachments": {},
   "cell_type": "markdown",
   "metadata": {},
   "source": [
    "Crear una clase que permita crear una bbdd y una tabla"
   ]
  },
  {
   "cell_type": "code",
   "execution_count": 8,
   "metadata": {},
   "outputs": [],
   "source": [
    "class bbdd:\n",
    "    def __init__(self, nombre_bbdd):\n",
    "       \n",
    "        self.nombre_bbdd = nombre_bbdd\n",
    "        \n",
    "\n",
    "   \n",
    "    def crear_bbdd(self, nombre_bbdd):\n",
    "\n",
    "        mydb = mysql.connector.connect(host=\"localhost\",\n",
    "                                       user=\"root\",\n",
    "                                       password=\"AlumnaAdalab\") \n",
    "        mycursor = mydb.cursor()\n",
    "        print(\"Conexión realizada con éxito.\")\n",
    "\n",
    "        try:\n",
    "            mycursor.execute(f\"CREATE DATABASE IF NOT EXISTS {self.nombre_bbdd};\")\n",
    "            \n",
    "        except:\n",
    "            print(\"La BBDD ya existe.\")\n",
    "            \n",
    "\n",
    "\n",
    "\n",
    "      \n",
    "    def crear_tabla(self,nombre_bbdd, query):\n",
    "\n",
    "        cnx = mysql.connector.connect(user= \"root\", password= f\"AlumnaAdalab\", host= \"127.0.0.1\", database = f\"{nombre_bbdd}\" )\n",
    "\n",
    "        mycursor = cnx.cursor()\n",
    "\n",
    "        try:\n",
    "            mycursor.execute(query)\n",
    "            cnx.commit()\n",
    "\n",
    "        except mysql.connector.Error as err:\n",
    "\n",
    "            print(err)\n",
    "            print(\"error code:\", err.errno)\n",
    "            print(\"SQLSTATE\", err.sqlstate)\n",
    "            print(\"Message\", err.msg)\n",
    "\n",
    "\n",
    "    \n",
    "            "
   ]
  },
  {
   "cell_type": "code",
   "execution_count": 9,
   "metadata": {},
   "outputs": [],
   "source": [
    "query_tabla_prueba = \"\"\"\n",
    "CREATE TABLE IF NOT EXISTS `tiburones`.`ataques` (\n",
    "  `index_ataques` INT NOT NULL AUTO_INCREMENT,\n",
    "  `case_number` VARCHAR(45) NULL,\n",
    "  `year` FLOAT NULL,\n",
    "  `type` VARCHAR(200) NULL,\n",
    "  `country` VARCHAR(45) NULL,\n",
    "  `area` VARCHAR(200) NULL,\n",
    "  `location` VARCHAR(200) NULL,\n",
    "  `activity` VARCHAR(2000) NULL,\n",
    "  `name` VARCHAR(200) NULL,\n",
    "  `age` VARCHAR(45) NULL,\n",
    "  `time` VARCHAR(20) NULL,\n",
    "  `species_` VARCHAR(45) NULL,\n",
    "  `injury` VARCHAR(2000) NULL,\n",
    "  `fecha_limpia` VARCHAR(3) NULL,\n",
    "  `fatal` VARCHAR(10) NULL,\n",
    "  `sex` VARCHAR(10) NULL,\n",
    "  `pais` VARCHAR(45) NULL,\n",
    "\n",
    "  PRIMARY KEY (`index_ataques`));\n",
    "\n",
    "\"\"\""
   ]
  },
  {
   "cell_type": "code",
   "execution_count": 10,
   "metadata": {},
   "outputs": [],
   "source": [
    "prueba = bbdd(\"bbdd_prueba\")"
   ]
  },
  {
   "cell_type": "code",
   "execution_count": 11,
   "metadata": {},
   "outputs": [
    {
     "name": "stdout",
     "output_type": "stream",
     "text": [
      "Conexión realizada con éxito.\n"
     ]
    }
   ],
   "source": [
    "base = prueba.crear_bbdd(\"bbdd_prueba\")"
   ]
  },
  {
   "cell_type": "code",
   "execution_count": 12,
   "metadata": {},
   "outputs": [],
   "source": [
    "tabla = prueba.crear_tabla(\"bbdd_prueba\", query_tabla_prueba)"
   ]
  }
 ],
 "metadata": {
  "kernelspec": {
   "display_name": "Python 3.9.7 ('base')",
   "language": "python",
   "name": "python3"
  },
  "language_info": {
   "codemirror_mode": {
    "name": "ipython",
    "version": 3
   },
   "file_extension": ".py",
   "mimetype": "text/x-python",
   "name": "python",
   "nbconvert_exporter": "python",
   "pygments_lexer": "ipython3",
   "version": "3.9.7"
  },
  "orig_nbformat": 4,
  "vscode": {
   "interpreter": {
    "hash": "0620710c65b0f5ccc651a2aa8870ae0eb4c70492424a8d7866846658189426a3"
   }
  }
 },
 "nbformat": 4,
 "nbformat_minor": 2
}
